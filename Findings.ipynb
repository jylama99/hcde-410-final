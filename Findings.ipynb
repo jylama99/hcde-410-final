{
 "cells": [
  {
   "cell_type": "markdown",
   "id": "3a61e11b-63db-4e8a-93b5-66e541ae34d1",
   "metadata": {},
   "source": [
    "# Findings\n",
    "\n",
    "This segment is to help organize findings which then can be used to build the final report.\n",
    "\n",
    "Similar work: \n",
    "- https://regionalhomelesssystem.org/\n",
    "Seattle(king county) measuring homelessness.\n",
    "- https://query.data.world/s/nhygbe5tfb37zvckvs7jpts5pzsccz\n",
    "Gathered data\n"
   ]
  },
  {
   "cell_type": "markdown",
   "id": "a5aca0d9-995a-43b0-addc-b2204b00358d",
   "metadata": {},
   "source": [
    "## Data sets used:\n",
    "\n",
    "- A\n",
    "This data set looks at ...\n",
    "\n",
    "- B\n",
    "This data set looks at ...\n"
   ]
  },
  {
   "cell_type": "markdown",
   "id": "e8f8a6b1-2bc0-4659-bb8a-74a909134047",
   "metadata": {},
   "source": [
    "## Varibales:\n",
    "\n",
    "The following are the varibles that were found to be of importance across different data sets.\n",
    "\n",
    "### Dataset A1\n",
    "- a\n",
    "- b\n",
    "\n",
    "### Dataset A2\n",
    "- a\n",
    "- b"
   ]
  },
  {
   "cell_type": "markdown",
   "id": "d5772b28-70f7-4146-9c76-edec7f622c39",
   "metadata": {},
   "source": [
    "## Future Research:\n",
    "Reflect on findings and suggestiongs on how to move forwards on this study."
   ]
  },
  {
   "cell_type": "markdown",
   "id": "9aa7a8de-045b-4239-873b-40e1d2260132",
   "metadata": {},
   "source": [
    "## Visualize:\n",
    "\n",
    "Determine visualizations."
   ]
  },
  {
   "cell_type": "markdown",
   "id": "0f8a68d0-5654-49c9-b874-5cec36bb7b7a",
   "metadata": {},
   "source": [
    "## Filter Data:\n",
    "\n",
    "Here there using code to filter and gather data that is helpful.\n",
    "Understand the data."
   ]
  },
  {
   "cell_type": "code",
   "execution_count": 13,
   "id": "65f3a819-b59f-4935-b47f-0e7322908515",
   "metadata": {},
   "outputs": [],
   "source": [
    "import csv\n",
    "\n",
    "# This method was taken from A2 to convert data into useful dictionaries\n",
    "def prepare_datasets(file_path):\n",
    "    \"\"\" \n",
    "    Accepts: path to a comma-separated plaintext file\n",
    "    Returns: a list containing a dictionary for every row in the file, \n",
    "        with the file column headers as keys\n",
    "    \"\"\"\n",
    "    \n",
    "    with open(file_path) as infile:\n",
    "        reader = csv.DictReader(infile, delimiter=',')\n",
    "        list_of_dicts = [dict(r) for r in reader]\n",
    "        \n",
    "    return list_of_dicts"
   ]
  },
  {
   "cell_type": "markdown",
   "id": "6ad397f6-a5dc-47fc-b267-882d33702f90",
   "metadata": {},
   "source": [
    "## Dataset 1: Causes of Homelessness\n",
    "\n",
    "Looking at the causes of homelessness varibles to consider which could be more closely related to Covid-19.<br>\n",
    "**Note:** *My reason for excluding mental health as part of my medical issues data is because mental health also encompasses more nuisance data which requires a better data set.*<br>\n",
    "\n",
    "Variables:\n",
    "- Job loss and Housing realted issues\n",
    "- Medical issues (excluding mental health)"
   ]
  },
  {
   "cell_type": "code",
   "execution_count": 47,
   "id": "1f998e55-be02-45e3-80a9-701334c1baba",
   "metadata": {},
   "outputs": [
    {
     "name": "stdout",
     "output_type": "stream",
     "text": [
      "Pre Covid (2019) housing count and percentage:\n",
      "5600\n",
      "50.0\n",
      "Pre Covid (2019) medical count and percentage:\n",
      "784\n",
      "7.0\n",
      "Post Covid (2020) housing count and percentage:\n",
      "3761\n",
      "32.0\n",
      "Post Covid (2020) medical count and percentage:\n",
      "706\n",
      "6.0\n"
     ]
    }
   ],
   "source": [
    "homelessness_cause = prepare_datasets(\"data/homelessness_cause.csv\")\n",
    "\n",
    "post_covid_count_housing = 0 #year 2020\n",
    "pre_covid_count_housing = 0 #year 2019\n",
    "\n",
    "post_covid_housing_percent = 0.0 #year 2020 percentage\n",
    "pre_covid_housing_percent = 0.0 #year 2019 percentage\n",
    "\n",
    "post_covid_count_medical = 0 #year 2020\n",
    "pre_covid_count_medical = 0 #year 2019\n",
    "\n",
    "post_covid_medical_percent = 0.0 #year 2020 percentage\n",
    "pre_covid_medical_percent = 0.0 #year 2019 percentage\n",
    "\n",
    "\n",
    "for i in range(len(homelessness_cause)):\n",
    "    if (homelessness_cause[i][\"\\ufeffYear\"] == \"2020\"):\n",
    "        if ((homelessness_cause[i][\"Cause\"] == \"Lost job\") |\n",
    "           (homelessness_cause[i][\"Cause\"] == \"Eviction\") |\n",
    "           (homelessness_cause[i][\"Cause\"] == \"Rent increase\") |\n",
    "           (homelessness_cause[i][\"Cause\"] == \"Foreclosure\") |\n",
    "           (homelessness_cause[i][\"Cause\"] == \"Resettlement transition\")):\n",
    "            \n",
    "            post_covid_count_housing += int(homelessness_cause[i][\"Count\"])\n",
    "            per = homelessness_cause[i][\"Percent\"][:-1] #drop the '%' from element\n",
    "            post_covid_housing_percent += float(per)\n",
    "            \n",
    "        elif ((homelessness_cause[i][\"Cause\"] == \"Illness/medical problems\") |\n",
    "           (homelessness_cause[i][\"Cause\"] == \"Hospitalization/treatment\")):\n",
    "            \n",
    "            post_covid_count_medical += int(homelessness_cause[i][\"Count\"])\n",
    "            per = homelessness_cause[i][\"Percent\"][:-1] #drop the '%' from element\n",
    "            post_covid_medical_percent += float(per)\n",
    "            \n",
    "    \n",
    "    elif (homelessness_cause[i][\"\\ufeffYear\"] == \"2019\"):\n",
    "        if ((homelessness_cause[i][\"Cause\"] == \"Lost job\") |\n",
    "           (homelessness_cause[i][\"Cause\"] == \"Eviction\") |\n",
    "           (homelessness_cause[i][\"Cause\"] == \"Rent increase\") |\n",
    "           (homelessness_cause[i][\"Cause\"] == \"Foreclosure\") |\n",
    "           (homelessness_cause[i][\"Cause\"] == \"Resettlement transition\")):\n",
    "            \n",
    "            pre_covid_count_housing += int(homelessness_cause[i][\"Count\"])\n",
    "            per = homelessness_cause[i][\"Percent\"][:-1] #drop the '%' from element\n",
    "            pre_covid_housing_percent += float(per)\n",
    "        \n",
    "        elif ((homelessness_cause[i][\"Cause\"] == \"Illness/medical problems\") |\n",
    "           (homelessness_cause[i][\"Cause\"] == \"Hospitalization/treatment\")):\n",
    "            \n",
    "            pre_covid_count_medical += int(homelessness_cause[i][\"Count\"])\n",
    "            per = homelessness_cause[i][\"Percent\"][:-1] #drop the '%' from element\n",
    "            pre_covid_medical_percent += float(per)\n",
    "    \n",
    "\n",
    "print('Pre Covid (2019) housing count and percentage:')\n",
    "print(pre_covid_count_housing)\n",
    "print(pre_covid_housing_percent)\n",
    "\n",
    "print('Pre Covid (2019) medical count and percentage:')\n",
    "print(pre_covid_count_medical)\n",
    "print(pre_covid_medical_percent)\n",
    "\n",
    "print('Post Covid (2020) housing count and percentage:')\n",
    "print(post_covid_count_housing)\n",
    "print(post_covid_housing_percent)\n",
    "\n",
    "print('Post Covid (2020) medical count and percentage:')\n",
    "print(post_covid_count_medical)\n",
    "print(post_covid_medical_percent)\n"
   ]
  },
  {
   "cell_type": "markdown",
   "id": "2c4076cd-3b22-4e69-afb4-fa5abd3aedbb",
   "metadata": {},
   "source": [
    "## Dataset 2: Use of Shelters\n",
    "\n",
    "Look at the changes between pre and post coivd varibles:\n",
    "- Unsheltered\n",
    "- Sheltered"
   ]
  },
  {
   "cell_type": "code",
   "execution_count": 48,
   "id": "378ac458-f385-4d80-9a8a-b6123fbeb7e0",
   "metadata": {},
   "outputs": [
    {
     "name": "stdout",
     "output_type": "stream",
     "text": [
      "Pre Covid (2019) sheltered count and percentage:\n",
      "5971\n",
      "53.0\n",
      "Pre Covid (2019) unsheltered count and percentage:\n",
      "5228\n",
      "45.0\n",
      "Post Covid (2020) sheltered count and percentage:\n",
      "6173\n",
      "53.0\n",
      "Post Covid (2020) unsheltered count and percentage:\n",
      "5578\n",
      "47.0\n"
     ]
    }
   ],
   "source": [
    "sheltered_data = prepare_datasets(\"data/shelter.csv\")\n",
    "\n",
    "pre_covid_sheltered_count = 0\n",
    "pre_covid_sheltered_percent = 0.0\n",
    "\n",
    "post_covid_sheltered_count = 0\n",
    "post_covid_sheltered_percent = 0.0\n",
    "\n",
    "pre_covid_unsheltered_count = 0\n",
    "pre_covid_unsheltered_percent = 0.0\n",
    "\n",
    "post_covid_unsheltered_count = 0\n",
    "post_covid_unsheltered_percent = 0.0\n",
    "\n",
    "for i in range(len(sheltered_data)):\n",
    "    if (sheltered_data[i][\"\\ufeffYear\"] == \"2020\"):\n",
    "        if (sheltered_data[i][\"Location type\"] == \"Sheltered\"):\n",
    "            post_covid_sheltered_count += int(sheltered_data[i][\"Count\"])\n",
    "            per = sheltered_data[i][\"Percent\"][:-1] #drop the '%' from element\n",
    "            post_covid_sheltered_percent += float(per)\n",
    "            \n",
    "        elif (sheltered_data[i][\"Location type\"] == \"Unsheltered\"):\n",
    "            post_covid_unsheltered_count += int(sheltered_data[i][\"Count\"])\n",
    "            per = sheltered_data[i][\"Percent\"][:-1] #drop the '%' from element\n",
    "            post_covid_unsheltered_percent += float(per)\n",
    "            \n",
    "    \n",
    "    elif (sheltered_data[i][\"\\ufeffYear\"] == \"2019\"):\n",
    "        if (sheltered_data[i][\"Location type\"] == \"Sheltered\"):\n",
    "            pre_covid_sheltered_count += int(sheltered_data[i][\"Count\"])\n",
    "            per = sheltered_data[i][\"Percent\"][:-1] #drop the '%' from element\n",
    "            pre_covid_sheltered_percent += float(per)\n",
    "        \n",
    "        elif (sheltered_data[i][\"Location type\"] == \"Unsheltered\"):\n",
    "            pre_covid_unsheltered_count += int(sheltered_data[i][\"Count\"])\n",
    "            per = sheltered_data[i][\"Percent\"][:-1] #drop the '%' from element\n",
    "            pre_covid_unsheltered_percent += float(per)\n",
    "    \n",
    "\n",
    "print('Pre Covid (2019) sheltered count and percentage:')\n",
    "print(pre_covid_sheltered_count)\n",
    "print(pre_covid_sheltered_percent)\n",
    "\n",
    "print('Pre Covid (2019) unsheltered count and percentage:')\n",
    "print(pre_covid_unsheltered_count)\n",
    "print(pre_covid_unsheltered_percent)\n",
    "\n",
    "print('Post Covid (2020) sheltered count and percentage:')\n",
    "print(post_covid_sheltered_count)\n",
    "print(post_covid_sheltered_percent)\n",
    "\n",
    "print('Post Covid (2020) unsheltered count and percentage:')\n",
    "print(post_covid_unsheltered_count)\n",
    "print(post_covid_unsheltered_percent)"
   ]
  },
  {
   "cell_type": "code",
   "execution_count": null,
   "id": "b8f88710-f4fc-4cd7-afa1-519e81a4580e",
   "metadata": {},
   "outputs": [],
   "source": []
  }
 ],
 "metadata": {
  "kernelspec": {
   "display_name": "Python 3",
   "language": "python",
   "name": "python3"
  },
  "language_info": {
   "codemirror_mode": {
    "name": "ipython",
    "version": 3
   },
   "file_extension": ".py",
   "mimetype": "text/x-python",
   "name": "python",
   "nbconvert_exporter": "python",
   "pygments_lexer": "ipython3",
   "version": "3.8.8"
  }
 },
 "nbformat": 4,
 "nbformat_minor": 5
}
