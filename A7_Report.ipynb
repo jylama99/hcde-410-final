{
 "cells": [
  {
   "cell_type": "markdown",
   "id": "bba87cc3-0206-4d0a-bb4e-6ba85e4bc573",
   "metadata": {},
   "source": [
    "# A7: Report"
   ]
  },
  {
   "cell_type": "markdown",
   "id": "e30d93d1-fc0d-47db-8039-afe2cc86d10a",
   "metadata": {},
   "source": [
    "## Introduction"
   ]
  },
  {
   "cell_type": "markdown",
   "id": "b4252c69-3cd6-47e2-9d24-e346c86fc145",
   "metadata": {},
   "source": [
    "## Background"
   ]
  },
  {
   "cell_type": "markdown",
   "id": "29ddaf7e-2d14-4502-aa17-385507b89a22",
   "metadata": {},
   "source": [
    "## Research Question"
   ]
  },
  {
   "cell_type": "markdown",
   "id": "e454fec1-4b96-4575-9338-66a432f4ece0",
   "metadata": {},
   "source": [
    "## Methodology"
   ]
  },
  {
   "cell_type": "markdown",
   "id": "347d9529-b047-4d37-bb8e-274b3e76fdb9",
   "metadata": {},
   "source": [
    "## Findings\n",
    "\n",
    "The code for the findings can be found in the Findings notebook for the sake of making this report concise.\n",
    "\n",
    "### Dataset 1: Causes of Homelessness\n",
    "\n",
    "Looking at the causes of homelessness varibles to consider which could be more closely related to Covid-19.<br>\n",
    "**Note:** *My reason for excluding mental health as part of my medical issues data is because mental health also encompasses more nuisance data which requires a better data set.*<br>\n",
    "\n",
    "**Variables:**\n",
    "- Housing Count: number of individuals counted to haved faced homelessness due to job loss and housing realted issues\n",
    "- Housing percentage: percentage of those who faced homelessness due to job loss and housing realted issues out of all other casues recorded.\n",
    "- Medical Count: number of individuals counted to haved faced homelessness due to medical issues (excluding mental health)\n",
    "- Medical percentage: percentage of those who faced homelessness due to medical issues (excluding mental health) out of all other casues recorded.\n",
    "\n",
    "**Data Found:**\n",
    "- Pre Covid (2019) housing count was 5712, making up 51%\n",
    "- Pre Covid (2019) medical count was 784 making up 7%\n",
    "- Post Covid (2020) housing count was 3879, making up 33%\n",
    "- Post Covid (2020) medical count 706, making up 6%\n",
    "\n",
    "### Dataset 2: Use of Shelters\n",
    "\n",
    "Looking at the of individuals facing homelessness who reported that they are residing in a sheltered enviroment (any form of government aid providing shelter) or an unsheltered (car, buildings not as aid by government, camps, etc.) enviroment. \n",
    "\n",
    "**Variables:**\n",
    "- Sheltered Count: number of individuals counted to haved faced homelessness due to job loss and housing realted issues\n",
    "- Sheltered percentage: percentage of those who faced homelessness due to job loss and housing realted issues out of all other casues recorded.\n",
    "- Unsheltered Count: number of individuals counted to haved faced homelessness due to medical issues (excluding mental health)\n",
    "- Unsheltered percentage: percentage of those who faced homelessness due to medical issues (excluding mental health) out of all other casues recorded.\n",
    "\n",
    "**Data Found:**\n",
    "- Pre Covid (2019) sheltered count was 5971, making up 53%\n",
    "- Pre Covid (2019) unsheltered count was 5228 making up 45%\n",
    "- Post Covid (2020) sheltered count was 6173, making up 53%\n",
    "- Post Covid (2020) unsheltered count 5578, making up 47%"
   ]
  },
  {
   "cell_type": "markdown",
   "id": "c4882236-fb74-49ea-bea5-6ad12161c2b7",
   "metadata": {},
   "source": [
    "## Discussion and Conclusion\n",
    "\n",
    "For the first dataset looking at the causes of homelessness both at my findings and visualizations, we can see that housing causes overall pre-Covid was greater than post/during Covid. This could be becuase the data recorded was not done as well as pre-Covid due to Covid restrictions. It could be infered that there are other factors such as mental health, domestic abuse, etc. which are leading causes of homelessness during and post Covid. However, when breaking down the differed causes accroding to the visualizations there was an increase in eviction as the cause by 13.1% from pre-Covid to post/during Covid. Similarly, with the medical reasons, knowing that the homeless population are wary of the healthcare system, Covid most likely poses as an extra threat and barrier, could hinder more accurate data collection.<br>\n",
    "\n",
    "As for the second dataset looking at the homeless populaiton reported to be sheltered or unsheltered there were slightly more shelreted than unsheltered both pre and post/during Covid. This precentage between the two should be looked at with skepticism beccause it is much more difficult to track and record unsheltered individuals. When looking at the count we can see overall that there was a rise is both sheltered and unsheltered indivudals post/during Covid. This falls in line with many of the claims from my background research of the expected rise of homelessness in Seattle, this current finding cannot discern if this increse is specifc to Covid."
   ]
  },
  {
   "cell_type": "markdown",
   "id": "5d468354-ad9e-4b78-bc46-1d6254036700",
   "metadata": {},
   "source": [
    "## Future Work\n",
    "\n",
    "Reflecting back on the study there could have data sets to work with however once again my main resouce were annual reports produced by the Regional Homelessness Authority of Seattle (King County). Thus here are sugggestions for direction to further explore and expand this study.\n",
    "\n",
    "1. Compare the issues the \"non-homeless\" population is facing in comparsion to see what issues might be specifc to the homeless population.\n",
    "2. Look into the impact of Covid to homelessness on different regions within Seattle, and how race and gentrification might play a role. \n",
    "3. Explore the impact of Covid on youth homelessness (age up to 22 to consider those recently out of foster care).\n",
    "4. "
   ]
  },
  {
   "cell_type": "markdown",
   "id": "9fdb06c0-eacc-4902-a010-00b8a27fdfe2",
   "metadata": {},
   "source": [
    "## References"
   ]
  },
  {
   "cell_type": "code",
   "execution_count": null,
   "id": "555a7bc5-a425-4b6d-b513-ade3d1119222",
   "metadata": {},
   "outputs": [],
   "source": []
  }
 ],
 "metadata": {
  "kernelspec": {
   "display_name": "Python 3",
   "language": "python",
   "name": "python3"
  },
  "language_info": {
   "codemirror_mode": {
    "name": "ipython",
    "version": 3
   },
   "file_extension": ".py",
   "mimetype": "text/x-python",
   "name": "python",
   "nbconvert_exporter": "python",
   "pygments_lexer": "ipython3",
   "version": "3.8.8"
  }
 },
 "nbformat": 4,
 "nbformat_minor": 5
}
