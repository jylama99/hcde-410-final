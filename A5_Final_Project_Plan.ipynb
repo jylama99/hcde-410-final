{
 "cells": [
  {
   "cell_type": "markdown",
   "id": "fb6cf5c9-0010-477a-bc92-a649f5a2453a",
   "metadata": {},
   "source": [
    "# A5: Final Project Plan"
   ]
  },
  {
   "cell_type": "markdown",
   "id": "4e2e8bed-d8d4-41ea-8e20-bc79f73f8740",
   "metadata": {},
   "source": [
    "## Research questions (or hypotheses): \n",
    "These describe what you hope to discover or determine in the course of your research project.\n",
    "- Example research question: what is the impact of an advanced degree on data scientist salaries over the course of their careers?\n",
    "- Example hypothesis: earning an advanced degree is associated with an increase of 20% in career data scientist salaries compared to similar data scientists who do not earn an MS degree.\n"
   ]
  },
  {
   "cell_type": "markdown",
   "id": "bec8e70d-aba5-439f-beb3-4076e7d531e4",
   "metadata": {},
   "source": [
    "## Background and/or Related Work: \n",
    "No matter what you choose to investigate, it’s almost certain that someone has investigated it (or a related phenomenon) before. Scientists always review previous work when beginning a new research study.\n",
    "\n",
    "- What is already known about the phenomenon you are investigating? What previous research on this phenomenon (or related phenomena) has been performed, and what were the findings?\n",
    "- How does previous research or background information inform your decision to perform this study, the way you designed the study, or your specific research questions you chose? Make sure to include references (endnotes and/or inline hyperlinks) to the sources of background information--whether they are websites, news articles, or peer-reviewed research.\n"
   ]
  },
  {
   "cell_type": "markdown",
   "id": "f45716e0-2fa0-44bf-b204-2c1526347161",
   "metadata": {},
   "source": [
    "## Methodology: \n",
    "Describe how you plan to investigate this phenomenon.\n",
    "You are expected to be thorough with these steps. Please describe to the best of your ability the entire series of gathering, analysis, and presentation methods you plan to use.\n",
    "- Describe the analytical methods you intend to use to answer your questions. (e.g. \"ordinary least squares\", \"student's t-test\", or \"recurrent neural network\")\n",
    "- Describe the method you plan to use to present your findings. Data visualizations can be useful (bar charts, dotplots, heatmaps, time series graphs), but are not appropriate to all types of data or analysis. In some cases, presenting your model output and then describing specific coefficients will be enough. In other cases, presenting your results in a table might be most appropriate.\n",
    "- Explain why the methods you chose to analyze and present your data are appropriate and useful."
   ]
  },
  {
   "cell_type": "code",
   "execution_count": null,
   "id": "5348f85f-3606-4c8e-b517-ad90b9fc700c",
   "metadata": {},
   "outputs": [],
   "source": []
  }
 ],
 "metadata": {
  "kernelspec": {
   "display_name": "Python 3",
   "language": "python",
   "name": "python3"
  },
  "language_info": {
   "codemirror_mode": {
    "name": "ipython",
    "version": 3
   },
   "file_extension": ".py",
   "mimetype": "text/x-python",
   "name": "python",
   "nbconvert_exporter": "python",
   "pygments_lexer": "ipython3",
   "version": "3.8.8"
  }
 },
 "nbformat": 4,
 "nbformat_minor": 5
}
