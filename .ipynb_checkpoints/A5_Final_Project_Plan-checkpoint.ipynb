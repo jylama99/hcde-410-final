{
 "cells": [
  {
   "cell_type": "markdown",
   "id": "fb6cf5c9-0010-477a-bc92-a649f5a2453a",
   "metadata": {},
   "source": [
    "# A5: Final Project Plan"
   ]
  },
  {
   "cell_type": "markdown",
   "id": "4e2e8bed-d8d4-41ea-8e20-bc79f73f8740",
   "metadata": {},
   "source": [
    "## Research questions (or hypotheses): \n",
    "These describe what you hope to discover or determine in the course of your research project.\n",
    "\n",
    "**Research question:** What has been the impact of Covid-19 to the population facing homelessness in the Seattle King County area? \n",
    "\n",
    "In order to explore my research question I will be looking at data from 2019 as my control and comparing it to reports from 2020 to observe the impact of Covid-19. More specifcally, I am expecting to look at data concering food stamps, applications and/or increase to subsidies housing and other data points which are indicators of homelessness. Through this I hope to gain insight on what challenges have increased due towards our most vulnernable communities.\n"
   ]
  },
  {
   "cell_type": "markdown",
   "id": "bec8e70d-aba5-439f-beb3-4076e7d531e4",
   "metadata": {},
   "source": [
    "## Background and/or Related Work: \n",
    "No matter what you choose to investigate, it’s almost certain that someone has investigated it (or a related phenomenon) before. Scientists always review previous work when beginning a new research study.\n",
    "\n",
    "- What is already known about the phenomenon you are investigating? What previous research on this phenomenon (or related phenomena) has been performed, and what were the findings?\n",
    "    \n",
    "It is already known that Covid-19 has negativily impacted individuals facing homelessness from already scarce access to healthcare, clean water, shelter and other necessities. Current research in this area is most concered about identifying priority areas to help mitigate challenges with isolation, getting a grasp of the mortality specifc, hospitalization and urgent care capacity needs and more (https://www.cmaj.ca/content/192/26/E716.short). \n",
    "\n",
    "- How does previous research or background information inform your decision to perform this study, the way you designed the study, or your specific research questions you chose? Make sure to include references (endnotes and/or inline hyperlinks) to the sources of background information--whether they are websites, news articles, or peer-reviewed research.\n",
    "\n",
    "Specifc to Seattle, I stumbled onto a Seattle Times article from December 2020 speaking about the reportedly low number of Covid-19 cases in homeless camps. The article goes on to multiple residents of the homeless camp, however there seems to be resounding skeptimism about such low reports. Additionally reading about how majority of the homeless population has negative experinces assocaited with the health care system makes me conisder that people would not be inclinded to seek medical attention unless in an dire situtaion (https://www.seattletimes.com/seattle-news/homeless/mysteriously-covid-hasnt-spread-among-seattles-vulnerable-homeless-population-what-does-that-mean-for-a-vaccine/).\n",
    "\n",
    "Thus I also want to look at data about what percentage of reported Covid-19 cases are also part of the homeless population. I believe that an age might also play a large factor as we have come to understand that Covid-19 is most harmful to senior citzens and individuals with pre-disposed conditions. I will also be looking at rise in temporary isolation stations (such as motels/hotels) and population change in homeless camp (I am unsure if camps will have updated data) or shelters. \n",
    "\n",
    "\n"
   ]
  },
  {
   "cell_type": "markdown",
   "id": "f45716e0-2fa0-44bf-b204-2c1526347161",
   "metadata": {},
   "source": [
    "## Methodology: \n",
    "Describe how you plan to investigate this phenomenon.\n",
    "You are expected to be thorough with these steps. Please describe to the best of your ability the entire series of gathering, analysis, and presentation methods you plan to use.\n",
    "\n",
    "- Describe the analytical methods you intend to use to answer your questions. (e.g. \"ordinary least squares\", \"student's t-test\", or \"recurrent neural network\")\n",
    "\n",
    "I am not sure about a specifc analytical method as I am not very familar with using them however I know I will be looking at data that have chance of containing various overlaps. In the sense that an indiviual who might be using food stamps could also be on subsidies housing.\n",
    "\n",
    "- Describe the method you plan to use to present your findings. Data visualizations can be useful (bar charts, dotplots, heatmaps, time series graphs), but are not appropriate to all types of data or analysis. In some cases, presenting your model output and then describing specific coefficients will be enough. In other cases, presenting your results in a table might be most appropriate.\n",
    "    - I am planning on using graphs to indiviually understand the change of singular factors such as use of food stamps, housing and more. \n",
    "    - Then I hope to overall some of the data that share similar trends to draw conclusions about possible intersections. \n",
    "    - Lastly, beucase I am looking at specifically King County in Seattle if I have time I would like to use a heat map to visualize the distribution of these data points geogrpahically.\n",
    "\n",
    "- Explain why the methods you chose to analyze and present your data are appropriate and useful.\n",
    "\n",
    "I am seeking to use these three methods so that I am able to look and understand the data I have gathered seperately and also altogether becuase I recognize that the issue of both Covid-19 and homelessness is multifacited."
   ]
  },
  {
   "cell_type": "code",
   "execution_count": null,
   "id": "5348f85f-3606-4c8e-b517-ad90b9fc700c",
   "metadata": {},
   "outputs": [],
   "source": []
  }
 ],
 "metadata": {
  "kernelspec": {
   "display_name": "Python 3",
   "language": "python",
   "name": "python3"
  },
  "language_info": {
   "codemirror_mode": {
    "name": "ipython",
    "version": 3
   },
   "file_extension": ".py",
   "mimetype": "text/x-python",
   "name": "python",
   "nbconvert_exporter": "python",
   "pygments_lexer": "ipython3",
   "version": "3.8.8"
  }
 },
 "nbformat": 4,
 "nbformat_minor": 5
}
