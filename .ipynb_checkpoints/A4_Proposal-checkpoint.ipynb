{
 "cells": [
  {
   "cell_type": "markdown",
   "id": "48fa8576-6628-41f6-b45e-88c677b057fc",
   "metadata": {},
   "source": [
    "# A4: Final Project Preliminary Proposal"
   ]
  },
  {
   "cell_type": "markdown",
   "id": "73d06468-88ec-4421-b43a-8d6c3d675164",
   "metadata": {},
   "source": [
    "## Motivation and problem statement:\n",
    "One or more paragraphs of text that answers the questions. Note that you only need to describe your overall research goal at this stage; specific hypotheses or research questions aren’t necessary in the project preliminary proposal.\n",
    "\n",
    "- **Why are you planning to do this analysis?**<br>\n",
    "I am interestd in looking at the intersection between homelessness and Covid-19 in Seattle. As a Seattleite who has lived on the Ave for majority of my life thus far and I have witnessed the increase in homelessness in Seattle and personally been affected by increasing housing prices. I also have novice experince working in a shelter for women and youth which has led to get a builing understanding of how facing homelessness in Seattle.\n",
    "\n",
    "- **Why is it potentially interesting and useful, from a scientific, practical, and/or human-centered perspective?**<br>\n",
    "I think diving into the impact of homlessness in Seattle and impact of Covid would help us better understand an issue that Seattle has failed to develop solutions for. From a human-centered perspective it will allow us to reflect on how Covid-19 has impacted one of the most vulnerable communites to document the impact it has had. I hope that for practical use this can be used to further inform possible solutions of provinding vaccinations for the homeless population who already have limited resources. \n",
    "\n",
    "- **What do you hope to learn?**<br>\n",
    "Overall I hope to learn how to take an issue I have identified and be able to gather data to further explore the issue and identify tangible areas of fault that can could then be transformed into action. "
   ]
  },
  {
   "cell_type": "markdown",
   "id": "019760bb-e079-4411-a3c6-01e410620bce",
   "metadata": {},
   "source": [
    "## Data selected for analysis:\n",
    "What dataset do you plan to use, and why? \n",
    "\n",
    " ### Data set 1: Reported Cases and Deaths by County and Age in Washington\n",
    "- **Link:** https://www.doh.wa.gov/Emergencies/COVID19/DataDashboard#downloads\n",
    "- **Summary:** Tracks probable, confirmed, and ages of COVID-19 cases in the different counties in Washington thus far. \n",
    "- **License:** Unsure, because we can download the data and but specifc data must be requested.\n",
    "- **Why:** By looking at the trend of the cases we can identify perhaps the difference between counties with higer and lower homelessness.\n",
    "- **Ethical considerations:** I am not sure becuase it is a broad data set but once again if we cross examine with other data such as race and more could risk privacy.\n",
    "    \n",
    "    \n",
    "### Data set 2: Food Stamps in King County\n",
    "- **Link:** https://data.census.gov/cedsci/table?q=Kings%20County%20Income%20and%20Poverty&tid=ACSST1Y2019.S2201\n",
    "- **Summary:** This data set records household size, income, work status, race, poverty and disability status and age of those in SNAP (Food Stamps/Supplemental Nutrition Assistance Program) from 2019.\n",
    "- **License:** Under Title 13, all census data can only be used to produce statistics.(https://www.census.gov/newsroom/press-releases/2019/state-data-sharing-agreements.html)\n",
    "- **Why:** The US census seeks to count people facing homelessness by looking at the number of users of foodstamps, shelters, soup kitchens and more. Thus a rise in foodstamps could entail also the increase in homelessness. (https://www.census.gov/library/fact-sheets/2020/dec/2020-census-counts-homeless.html)\n",
    "- **Ethical considerations:** Cross examinnig many of these data points such as loaction and utilizing one or multiple resouces could make it easier to identify individuals. \n",
    "\n",
    "**Note** I am still looking for data that provides updated information about homelessness and how other factors come into play in terms of health, such as clean water supply, sanitary and food resources and more. There are numerous factors so I will need to further filter more data I need to look at.\n",
    "\n",
    "## Unknowns and dependencies:\n",
    "Are there any factors outside of your control that might impact your ability to complete this project by the end of the quarter? The purpose of this section is to get you thinking, in a practical sense, about your ability to complete this project within the time allotted.\n",
    "\n",
    "- A factor I am missing with my data is looking at what indivisuals and famalies facing homelessness turn to for health reasons. This piece is not recorded when a COVID-19 case is recorded or such individuals have not reported to any health care institutions.\n",
    "- I am specifying my focus by only looking at King County, thus my findings are mostly likely a reflection of several other issues within King County.\n",
    "- I need to make sure to further simplify my data sets to make sure I am not overlapping multiple other intersectionalities such as age, race, and more. \n"
   ]
  },
  {
   "cell_type": "code",
   "execution_count": null,
   "id": "6ba05867-6726-4905-a792-e83e7e746051",
   "metadata": {},
   "outputs": [],
   "source": []
  }
 ],
 "metadata": {
  "kernelspec": {
   "display_name": "Python 3",
   "language": "python",
   "name": "python3"
  },
  "language_info": {
   "codemirror_mode": {
    "name": "ipython",
    "version": 3
   },
   "file_extension": ".py",
   "mimetype": "text/x-python",
   "name": "python",
   "nbconvert_exporter": "python",
   "pygments_lexer": "ipython3",
   "version": "3.8.8"
  }
 },
 "nbformat": 4,
 "nbformat_minor": 5
}
