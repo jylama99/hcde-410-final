{
 "cells": [
  {
   "cell_type": "markdown",
   "id": "bba87cc3-0206-4d0a-bb4e-6ba85e4bc573",
   "metadata": {},
   "source": [
    "# Impact of Covid-19 on Homelessness Report"
   ]
  },
  {
   "cell_type": "markdown",
   "id": "e30d93d1-fc0d-47db-8039-afe2cc86d10a",
   "metadata": {},
   "source": [
    "## Introduction\n",
    "\n",
    "**Why?** <br>\n",
    "\n",
    "I am interestd in looking at the intersection between homelessness and Covid-19 in Seattle. As a Seattleite who has lived on the Ave for majority of my life thus far and I have witnessed the increase in homelessness in Seattle and personally been affected by increasing housing prices. I also have novice experince working in a shelter for women and youth which has led to get a builing understanding of how facing homelessness in Seattle.\n",
    "\n",
    "**Use of the Study and human-centered perspective?**<br>\n",
    "\n",
    "I think diving into the impact of homlessness in Seattle and impact of Covid would help us better understand an issue that Seattle has failed to develop solutions for. From a human-centered perspective it will allow us to reflect on how Covid-19 has impacted one of the most vulnerable communites to document the impact it has had. I hope that for practical use this can be used to further inform possible solutions of provinding vaccinations for the homeless population who already have limited resources. \n",
    "\n",
    "**Learning Goals?**<br>\n",
    "\n",
    "Overall I hope to learn how to take an issue I have identified and be able to gather data to further explore the issue and identify tangible areas of fault that can could then be transformed into action. "
   ]
  },
  {
   "cell_type": "markdown",
   "id": "b4252c69-3cd6-47e2-9d24-e346c86fc145",
   "metadata": {},
   "source": [
    "## Background\n",
    "\n",
    "**Current Research**<br>\n",
    "    \n",
    "It is already known that Covid-19 has negativily impacted individuals facing homelessness from already scarce access to healthcare, clean water, shelter and other necessities. Current research in this area is most concered about identifying priority areas to help mitigate challenges with isolation, getting a grasp of the mortality specifc, hospitalization and urgent care capacity needs and more [4]. \n",
    "\n",
    "**Public Views**<br>\n",
    "\n",
    "Specifc to Seattle, I stumbled onto a Seattle Times article from December 2020 speaking about the reportedly low number of Covid-19 cases in homeless camps. The article goes on to multiple residents of the homeless camp, however there seems to be resounding skeptimism about such low reports. Additionally reading about how majority of the homeless population has negative experinces assocaited with the health care system makes me conisder that people would not be inclinded to seek medical attention unless in an dire situtaion [6].<br>\n",
    "\n",
    "Thus I also want to look at data about what percentage of reported Covid-19 cases are also part of the homeless population. I believe that I might be able to see this by looking at the causes of homelessness between 2019 and 2020. I will also be looking at rise in temporary isolation stations (such as motels/hotels) and population change in homeless camp (I am unsure if camps will have updated data) or shelters. \n",
    "\n",
    "**Current data tracking**<br>\n",
    "\n",
    "The Count Us In reports created by the Regional Homelessness Authority uses a mixture of surveys, sheleter data and point-in-time tracking. This specifc methodoloy of accounting for unsheltered persons is through Point-in-Time trakcing which the utilizies volunteers to conduct a one-night count of unsheltered individuals. While this methdology also has its flaws as it is not realistic to accurately count all unsheltered persons on a given day or night as part of experincing homelessness is the issue of aquring reliable shelter even if temporary [1].\n",
    "    \n"
   ]
  },
  {
   "cell_type": "markdown",
   "id": "29ddaf7e-2d14-4502-aa17-385507b89a22",
   "metadata": {},
   "source": [
    "## Research Question\n",
    "\n",
    "What has been the impact of Covid-19 to the population facing homelessness in the Seattle King County area?<br> \n",
    "\n",
    "In order to explore my research question I will be looking at data from 2019 as my control and comparing it to reports from 2020 to observe the impact of Covid-19. More specifcally, I am expecting to look at data concering food stamps, applications and/or increase to subsidies housing and other data points which are indicators of homelessness. Through this I hope to gain insight on what challenges have increased due towards our most vulnernable communities."
   ]
  },
  {
   "cell_type": "markdown",
   "id": "e454fec1-4b96-4575-9338-66a432f4ece0",
   "metadata": {},
   "source": [
    "## Methodology\n",
    "\n",
    "**Data Gathering**<br>\n",
    "\n",
    "The data gathered stems from the Cout Us In reports of 2020 [2] and 2019 [5] by the Regional Homelessness Authority. Meanwhile the data was curated and formatted by a third party on open data website [7]. \n",
    "\n",
    "**Analytical methods**<br>\n",
    "\n",
    "I will mostly just be using code to filter through the my datasets to compare and contrast data found betweeen post/during Covid 2020 and pre Covid 2019 in Seattle King County. \n",
    "\n",
    "**Data visualizations**<br>\n",
    "\n",
    "The issue of both Covid-19 and homelessness is multifacited and I am hoping to break it down to focus on two specifc areas from my datasets. Specfically by looking at both the counts and also percentages for comparison through pie and bar charts.<br>\n",
    "\n",
    "**Note:** Pie and Bar Charts produced can be found in the visualizations folder.\n",
    "\n",
    "- Percentage for Causes of Homelessness Post-Covid 2020\n",
    "- Percentage for Causes of Homelessness Pre-Covid 2019\n",
    "- Count of Sheltered and Unsheltered Persons Post-Covid 2020\n",
    "- Count of Sheltered and Unsheltered Persons Pre-Covid 2019\n",
    "\n",
    "\n"
   ]
  },
  {
   "cell_type": "markdown",
   "id": "347d9529-b047-4d37-bb8e-274b3e76fdb9",
   "metadata": {},
   "source": [
    "## Findings\n",
    "\n",
    "**Note:** The code for the findings can be found in the Findings notebook for the sake of making this report concise. While the datasets and other datasets considered can be found in the data folder.\n",
    "\n",
    "### Dataset 1: Causes of Homelessness\n",
    "\n",
    "Looking at the causes of homelessness varibles to consider which could be more closely related to Covid-19.<br>\n",
    "*Note: My reason for excluding mental health as part of my medical issues data is because mental health also encompasses more nuisance data which requires a better data set.*<br>\n",
    "\n",
    "**Variables:**\n",
    "- Housing Count: number of individuals counted to haved faced homelessness due to job loss and housing realted issues\n",
    "- Housing percentage: percentage of those who faced homelessness due to job loss and housing realted issues out of all other casues recorded.\n",
    "- Medical Count: number of individuals counted to haved faced homelessness due to medical issues (excluding mental health)\n",
    "- Medical percentage: percentage of those who faced homelessness due to medical issues (excluding mental health) out of all other casues recorded.\n",
    "\n",
    "**Data Found:**\n",
    "- Pre Covid (2019) housing count was 5712, making up 51%\n",
    "- Pre Covid (2019) medical count was 784 making up 7%\n",
    "- Post Covid (2020) housing count was 3879, making up 33%\n",
    "- Post Covid (2020) medical count 706, making up 6%\n",
    "\n",
    "### Dataset 2: Use of Shelters\n",
    "\n",
    "Looking at the of individuals facing homelessness who reported that they are residing in a sheltered enviroment (any form of government aid providing shelter) or an unsheltered (car, buildings not as aid by government, camps, etc.) enviroment. \n",
    "\n",
    "**Variables:**\n",
    "- Sheltered Count: number of individuals counted to haved faced homelessness due to job loss and housing realted issues\n",
    "- Sheltered percentage: percentage of those who faced homelessness due to job loss and housing realted issues out of all other casues recorded.\n",
    "- Unsheltered Count: number of individuals counted to haved faced homelessness due to medical issues (excluding mental health)\n",
    "- Unsheltered percentage: percentage of those who faced homelessness due to medical issues (excluding mental health) out of all other casues recorded.\n",
    "\n",
    "**Data Found:**\n",
    "- Pre Covid (2019) sheltered count was 5971, making up 53%\n",
    "- Pre Covid (2019) unsheltered count was 5228 making up 45%\n",
    "- Post Covid (2020) sheltered count was 6173, making up 53%\n",
    "- Post Covid (2020) unsheltered count 5578, making up 47%"
   ]
  },
  {
   "cell_type": "markdown",
   "id": "c4882236-fb74-49ea-bea5-6ad12161c2b7",
   "metadata": {},
   "source": [
    "## Discussion and Conclusion\n",
    "\n",
    "For the first dataset looking at the causes of homelessness both at my findings and visualizations, we can see that housing causes overall pre-Covid was greater than post/during Covid. This could be becuase the data recorded was not done as well as pre-Covid due to Covid restrictions. It could be infered that there are other factors such as mental health, domestic abuse, etc. which are leading causes of homelessness during and post Covid. However, when breaking down the differed causes accroding to the visualizations there was an increase in eviction as the cause by 13.1% from pre-Covid to post/during Covid. Similarly, with the medical reasons, knowing that the homeless population are wary of the healthcare system, Covid most likely poses as an extra threat and barrier, could hinder more accurate data collection.<br>\n",
    "\n",
    "As for the second dataset looking at the homeless populaiton reported to be sheltered or unsheltered there were slightly more shelreted than unsheltered both pre and post/during Covid. This precentage between the two should be looked at with skepticism beccause it is much more difficult to track and record unsheltered individuals. When looking at the count we can see overall that there was a rise is both sheltered and unsheltered indivudals post/during Covid. This falls in line with many of the claims from my background research of the expected rise of homelessness in Seattle, this current finding cannot discern if this increse is specifc to Covid.\n",
    "\n",
    "Lastly, as for my learning goals of gathering data to further explore this issue, I am most intrigued by the Point-in-Time method of counting the unsheletred population. I am curios about if there were any complications due to Covid-19 setbacks and social-distancing restrictions for such a methodoly. Secondly, identifing tangible areas of fault that can could then be transformed into action, from my findings there is a clear indication that homelessness in general is on the rise and specific Covid has highligted the lack of trust the homeless population has experinced with healthcare system."
   ]
  },
  {
   "cell_type": "markdown",
   "id": "5d468354-ad9e-4b78-bc46-1d6254036700",
   "metadata": {},
   "source": [
    "## Future Work\n",
    "\n",
    "Reflecting back on the study there could have been better data sets to work with however once again my main resouce were annual reports produced by the Regional Homelessness Authority of Seattle (King County). Thus here are sugggestions for direction to further explore and expand this study.\n",
    "\n",
    "1. Compare the issues the \"non-homeless\" population is facing in comparsion to see what issues might be specifc to the homeless population.\n",
    "\n",
    "2. Look into the impact of Covid to homelessness on different regions within Seattle, and how race and gentrification might play a role. \n",
    "\n",
    "3. Explore the impact of Covid on youth homelessness (age up to 22 to consider those recently out of foster care).\n",
    "\n",
    "4. Explore other mehtods of meausring homelessness in comparision to the Point-in-Time tracking method"
   ]
  },
  {
   "cell_type": "markdown",
   "id": "9fdb06c0-eacc-4902-a010-00b8a27fdfe2",
   "metadata": {},
   "source": [
    "## References"
   ]
  },
  {
   "cell_type": "markdown",
   "id": "1cbe6146-3d67-469d-9f3f-c0d9530e0ac5",
   "metadata": {},
   "source": [
    "1. King County trend on homelessness Point-in-Time tracking article<br>\n",
    "https://kingcounty.gov/elected/executive/constantine/news/release/2020/July/01-homeless-count.aspx\n",
    "\n",
    "2. King County Count-Us-In Report 2020<br>\n",
    "https://regionalhomelesssystem.org/wp-content/uploads/2020/07/Count-Us-In-2020-Final_7.29.2020.pdf\n",
    "\n",
    "3. Regional Homelessness Authority measuring homelessness (Point-in-Time trakcing)<br>\n",
    "https://regionalhomelesssystem.org/\n",
    "\n",
    "4. Mitigating Homelessness duirng Covid Study<br>\n",
    "https://www.cmaj.ca/content/192/26/E716.short\n",
    "\n",
    "5. King County Count-Us-In Report 2019<br>\n",
    "https://regionalhomelesssystem.org/wp-content/uploads/2020/06/KING-9.5-v2.pdf\n",
    "\n",
    "6. Seattle Times interview with Individuals facing homelessness<br>\n",
    "https://www.seattletimes.com/seattle-news/homeless/mysteriously-covid-hasnt-spread-among-seattles-vulnerable-homeless-population-what-does-that-mean-for-a-vaccine/\n",
    "\n",
    "7. Retrived formated open data<br>\n",
    "https://query.data.world/s/nhygbe5tfb37zvckvs7jpts5pzsccz"
   ]
  },
  {
   "cell_type": "code",
   "execution_count": null,
   "id": "7ebff566-51d7-4a15-8dba-42f414efedd1",
   "metadata": {},
   "outputs": [],
   "source": []
  }
 ],
 "metadata": {
  "kernelspec": {
   "display_name": "Python 3",
   "language": "python",
   "name": "python3"
  },
  "language_info": {
   "codemirror_mode": {
    "name": "ipython",
    "version": 3
   },
   "file_extension": ".py",
   "mimetype": "text/x-python",
   "name": "python",
   "nbconvert_exporter": "python",
   "pygments_lexer": "ipython3",
   "version": "3.8.8"
  }
 },
 "nbformat": 4,
 "nbformat_minor": 5
}
